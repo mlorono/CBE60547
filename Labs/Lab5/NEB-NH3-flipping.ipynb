{
 "cells": [
  {
   "cell_type": "markdown",
   "metadata": {},
   "source": [
    "# NEB and CINEB for Ammonia Flipping. \n",
    "* Hanyu Ma and William Schneider\n",
    "* Acknowledgement: Jerry, Craig and Jeonghyun"
   ]
  },
  {
   "cell_type": "code",
   "execution_count": null,
   "metadata": {},
   "outputs": [],
   "source": [
    "from ase import Atoms\n",
    "from ase.build import molecule\n",
    "import numpy as np\n",
    "from vasp import Vasp\n",
    "from ase.constraints import FixAtoms\n",
    "from ase.visualize import view\n",
    "from vasp.vasprc import VASPRC\n",
    "from ase.io import read,write"
   ]
  },
  {
   "cell_type": "code",
   "execution_count": null,
   "metadata": {},
   "outputs": [],
   "source": [
    "# We use debug queue to run this job so we don't need to wait\n",
    "VASPRC['queue.q'] = '*@@debug_d12chas'\n",
    "VASPRC['queue.nprocs'] = 24"
   ]
  },
  {
   "cell_type": "code",
   "execution_count": null,
   "metadata": {},
   "outputs": [],
   "source": [
    "# Load NH3 molecule from database\n",
    "NH3 = molecule('NH3')\n",
    "# Set a periodic cell\n",
    "NH3.set_cell((10,10,10),scale_atoms=False)\n",
    "# Move the NH3 molecule to the center\n",
    "NH3.positions -= NH3.positions[0] - [5,5,5]\n",
    "# Fix N atom\n",
    "constraint = FixAtoms(mask=[atom.symbol == 'N' for atom in NH3])\n",
    "NH3.set_constraint(constraint)\n",
    "view(NH3)"
   ]
  },
  {
   "cell_type": "code",
   "execution_count": null,
   "metadata": {},
   "outputs": [],
   "source": [
    "calc = Vasp('initial',\n",
    "             xc = 'pbe',\n",
    "             encut = 400,\n",
    "             ibrion = 2,\n",
    "#              ediffg = -0.03, # Turn ediffg on when you need a reliable calculation.\n",
    "             nsw = 50,\n",
    "             atoms = NH3)\n",
    "calc.get_potential_energy()\n",
    "# calc.view()"
   ]
  },
  {
   "cell_type": "code",
   "execution_count": null,
   "metadata": {},
   "outputs": [],
   "source": [
    "# Create the final state (FS) using the optimized initial state\n",
    "FS = read('initial/CONTCAR')\n",
    "\n",
    "# Flip ammonia. \n",
    "for i in [1,2,3]:\n",
    "    FS[i].position[2] += 2*(FS[0].position[2] - FS[i].position[2])\n",
    "view (FS)"
   ]
  },
  {
   "cell_type": "code",
   "execution_count": null,
   "metadata": {},
   "outputs": [],
   "source": [
    "calc = Vasp('final',\n",
    "             xc = 'pbe',\n",
    "             encut = 400,\n",
    "             ibrion = 2,\n",
    "             nsw = 50,\n",
    "             atoms = FS)\n",
    "calc.get_potential_energy()"
   ]
  },
  {
   "cell_type": "code",
   "execution_count": null,
   "metadata": {},
   "outputs": [],
   "source": [
    "from ase.neb import NEB\n",
    "IS = read('initial/CONTCAR')\n",
    "FS = read('final/CONTCAR')\n",
    "\n",
    "# Insert 4 images between IS and FS\n",
    "images = [IS]\n",
    "images += [IS.copy() for i in range(4)]\n",
    "images += [FS]\n",
    "\n",
    "# Update the positions of the images by linear interpolation\n",
    "neb = NEB(images)\n",
    "neb.interpolate()\n",
    "\n",
    "view(images)"
   ]
  },
  {
   "cell_type": "code",
   "execution_count": null,
   "metadata": {},
   "outputs": [],
   "source": [
    "# Let's run a normal NEB\n",
    "\n",
    "calc = Vasp('NH3-neb',\n",
    "            xc='PBE',\n",
    "            ibrion=1, \n",
    "            encut=400,\n",
    "            nsw=90,\n",
    "            spring=-5.0,\n",
    "#             lclimb = True,\n",
    "            atoms=images)\n",
    "# calc.view()"
   ]
  },
  {
   "cell_type": "code",
   "execution_count": null,
   "metadata": {},
   "outputs": [],
   "source": [
    "# After the job is done. \n",
    "# (1) Move the OUTCAR file in \"initial\" and OUTCAR file in \"final\" to \"NH3-neb/00\" and \"NH3-neb/05\", respectively.\n",
    "# (2) Move nebvis.py to \"NH3-neb\".\n",
    "# (3) Type \"python nebvis.py\" to see the results."
   ]
  },
  {
   "cell_type": "code",
   "execution_count": null,
   "metadata": {},
   "outputs": [],
   "source": [
    "# Let's run a climbing image NEB\n",
    "\n",
    "calc = Vasp('NH3-cineb',\n",
    "            xc='PBE',\n",
    "            ibrion=1, \n",
    "            encut=400,\n",
    "            nsw=90,\n",
    "            spring=-5.0,\n",
    "            lclimb = True,\n",
    "            atoms=images)\n",
    "# calc.view()"
   ]
  },
  {
   "cell_type": "code",
   "execution_count": null,
   "metadata": {},
   "outputs": [],
   "source": [
    "# After the job is done. \n",
    "# (1) Move the OUTCAR file in \"initial\" and OUTCAR file in \"final\" to \"NH3-cineb/00\" and \"NH3-cineb/05\", respectively.\n",
    "# (2) Move nebvis.py to \"NH3-cineb\".\n",
    "# (3) Run Python nebvis.py to see the results."
   ]
  },
  {
   "cell_type": "code",
   "execution_count": null,
   "metadata": {},
   "outputs": [],
   "source": [
    "# What are the differences between neb and cineb?"
   ]
  },
  {
   "cell_type": "code",
   "execution_count": null,
   "metadata": {},
   "outputs": [],
   "source": [
    "# A three-image CINEB. \n",
    "# Does this reach agreement with the 4-image cineb?\n",
    "from ase.neb import NEB\n",
    "IS = read('initial/CONTCAR')\n",
    "FS = read('final/CONTCAR')\n",
    "\n",
    "# Insert 4 images between IS and FS\n",
    "images = [IS]\n",
    "images += [IS.copy() for i in range(3)]\n",
    "images += [FS]\n",
    "\n",
    "# Update the positions of the images by linear interpolation\n",
    "neb = NEB(images)\n",
    "neb.interpolate()\n",
    "\n",
    "# Let's run a climbing image NEB\n",
    "\n",
    "calc = Vasp('NH3-cineb-3-image',\n",
    "            xc='PBE',\n",
    "            ibrion=1, \n",
    "            encut=400,\n",
    "            nsw=90,\n",
    "            spring=-5.0,\n",
    "            lclimb = True,\n",
    "            atoms=images)\n",
    "calc.view()"
   ]
  }
 ],
 "metadata": {
  "kernelspec": {
   "display_name": "Python 3",
   "language": "python",
   "name": "python3"
  },
  "language_info": {
   "codemirror_mode": {
    "name": "ipython",
    "version": 3
   },
   "file_extension": ".py",
   "mimetype": "text/x-python",
   "name": "python",
   "nbconvert_exporter": "python",
   "pygments_lexer": "ipython3",
   "version": "3.7.3"
  }
 },
 "nbformat": 4,
 "nbformat_minor": 2
}
